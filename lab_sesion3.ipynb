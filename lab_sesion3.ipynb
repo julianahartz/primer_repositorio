{
  "cells": [
    {
      "cell_type": "markdown",
      "metadata": {
        "id": "view-in-github",
        "colab_type": "text"
      },
      "source": [
        "<a href=\"https://colab.research.google.com/github/julianahartz/primer_repositorio/blob/main/lab_sesion3.ipynb\" target=\"_parent\"><img src=\"https://colab.research.google.com/assets/colab-badge.svg\" alt=\"Open In Colab\"/></a>"
      ]
    },
    {
      "cell_type": "markdown",
      "metadata": {
        "id": "bD7d4aKzlRC-"
      },
      "source": [
        "## Desafío 1: Tuplas\n",
        "\n",
        "#### ¿Sabías que puedes crear tuplas con solo un elemento?\n",
        "\n",
        "**En la celda de abajo, define una variable `tup` con un único elemento `\"I\"`.**"
      ]
    },
    {
      "cell_type": "code",
      "execution_count": 3,
      "metadata": {
        "colab": {
          "base_uri": "https://localhost:8080/"
        },
        "id": "fyr83D1JlRDF",
        "outputId": "cee070e9-4f44-4fee-8685-a74938c76e84"
      },
      "outputs": [
        {
          "output_type": "stream",
          "name": "stdout",
          "text": [
            "('I',)\n"
          ]
        }
      ],
      "source": [
        "tup = (\"I\",)\n",
        "print(tup)"
      ]
    },
    {
      "cell_type": "markdown",
      "metadata": {
        "id": "n-ul0ibPlRDH"
      },
      "source": [
        "#### Imprime el tipo de `tup`.\n",
        "\n",
        "Asegúrate de que su tipo sea correcto (es decir, *tuple* en lugar de *str*)."
      ]
    },
    {
      "cell_type": "code",
      "execution_count": 2,
      "metadata": {
        "colab": {
          "base_uri": "https://localhost:8080/"
        },
        "id": "nuj4suoglRDI",
        "outputId": "8fe828be-9c1d-44b7-b045-a503148eb492"
      },
      "outputs": [
        {
          "output_type": "stream",
          "name": "stdout",
          "text": [
            "<class 'tuple'>\n"
          ]
        }
      ],
      "source": [
        "print(type(tup))  # Imprimo el tipo de dato"
      ]
    },
    {
      "cell_type": "markdown",
      "metadata": {
        "id": "O-QgldLclRDJ"
      },
      "source": [
        "#### Ahora intenta agregar los siguientes elementos a `tup`.\n",
        "\n",
        "¿Puedes hacerlo? Explica.\n",
        "\n",
        "```\n",
        "\"r\", \"o\", \"n\", \"h\", \"a\", \"c\", \"k',\n",
        "```"
      ]
    },
    {
      "cell_type": "code",
      "execution_count": 4,
      "metadata": {
        "scrolled": true,
        "id": "nPFBSsWSlRDK"
      },
      "outputs": [],
      "source": [
        "tup = list(tup)  # Convierto a lista\n",
        "tup.extend([\"r\", \"o\", \"n\", \"h\", \"a\", \"c\", \"k\"])  # Agrego elementos\n",
        "tup = tuple(tup)  # Convierto de nuevo en tupla\n",
        "# No es posible modificar directamente tup porque las tuplas en Python son inmutables, lo que significa que no se pueden cambiar después de su creación. Si intentamos hacer algo como: tup += (\"r\", \"o\", \"n\", \"h\", \"a\", \"c\", \"k\") funcionará porque estamos creando una nueva tupla y reasignándola a tup, pero la tupla original no se modifica en sí misma. Por este motivo, prefiero convertir la tupla en una lista, agregar los elementos y luego convertirla nuevamente en una tupla."
      ]
    },
    {
      "cell_type": "markdown",
      "metadata": {
        "id": "D2OxjaUKlRDM"
      },
      "source": [
        "#### ¿Qué tal si reasignas un nuevo valor a una tupla existente?\n",
        "\n",
        "Reasigna los siguientes elementos a `tup`. ¿Puedes hacerlo? Explica.\n",
        "\n",
        "```\n",
        "\"I\", \"r\", \"o\", \"n\", \"h\", \"a\", \"c\", \"k\"\n",
        "```"
      ]
    },
    {
      "cell_type": "code",
      "execution_count": 6,
      "metadata": {
        "colab": {
          "base_uri": "https://localhost:8080/"
        },
        "id": "0YN8Z7Q0lRDO",
        "outputId": "a295d428-8168-4b56-e3e7-d017f62c5cdc"
      },
      "outputs": [
        {
          "output_type": "stream",
          "name": "stdout",
          "text": [
            "('I', 'r', 'o', 'n', 'h', 'a', 'c', 'k')\n"
          ]
        }
      ],
      "source": [
        "# Sí, puedo reasignar los elementos a tup, pero esto no significa que la tupla original se haya modificado, ya que las tuplas son inmutables. Lo que realmente estoy haciendo es crear una nueva tupla y asignarla nuevamente a la variable tup. Así, la tupla original tup = (\"I\",) no se modifica. En su lugar, creo una nueva tupla con los elementos \"I\", \"r\", \"o\", \"n\", \"h\", \"a\", \"c\", \"k\" y la asigno a tup. Ahora tup hace referencia a esta nueva tupla, pero la tupla original sigue existiendo.\n",
        "tup = (\"I\", \"r\", \"o\", \"n\", \"h\", \"a\", \"c\", \"k\")  # Reasigno una nueva tupla\n",
        "print(tup)"
      ]
    },
    {
      "cell_type": "markdown",
      "metadata": {
        "id": "hC1DfVgNlRDO"
      },
      "source": [
        "#### Divide `tup` en `tup1` y `tup2` con 4 elementos en cada una.\n",
        "\n",
        "`tup1` debe ser `(\"I\", \"r\", \"o\", \"n\")` y `tup2` debe ser `(\"h\", \"a\", \"c\", \"k\")`.\n",
        "\n",
        "*Sugerencia: usa números de índice positivos para la asignación de `tup1` y números de índice negativos para la asignación de `tup2`. Los números de índice positivos cuentan desde el principio, mientras que los números de índice negativos cuentan desde el final de la secuencia.*\n",
        "\n",
        "También imprime `tup1` y `tup2`."
      ]
    },
    {
      "cell_type": "code",
      "execution_count": 7,
      "metadata": {
        "colab": {
          "base_uri": "https://localhost:8080/"
        },
        "id": "o1Jnh8YvlRDP",
        "outputId": "2dfb8438-5cbb-402c-8b06-11b9f8ebeb6e"
      },
      "outputs": [
        {
          "output_type": "stream",
          "name": "stdout",
          "text": [
            "tup1: ('I', 'r', 'o', 'n')\n",
            "tup2: ('h', 'a', 'c', 'k')\n"
          ]
        }
      ],
      "source": [
        "tup = (\"I\", \"r\", \"o\", \"n\", \"h\", \"a\", \"c\", \"k\")\n",
        "\n",
        "tup1 = tup[:4]   # Los primeros 4 elementos (índices positivos)\n",
        "tup2 = tup[-4:]  # Los últimos 4 elementos (índices negativos)\n",
        "\n",
        "print(\"tup1:\", tup1)\n",
        "print(\"tup2:\", tup2)"
      ]
    },
    {
      "cell_type": "markdown",
      "metadata": {
        "id": "Yhc0RYCBlRDQ"
      },
      "source": [
        "#### Suma `tup1` y `tup2` en `tup3` usando el operador `+`.\n",
        "\n",
        "Luego imprime `tup3` y verifica si `tup3` es igual a `tup`."
      ]
    },
    {
      "cell_type": "code",
      "execution_count": 9,
      "metadata": {
        "colab": {
          "base_uri": "https://localhost:8080/"
        },
        "id": "gZ0vZvFalRDQ",
        "outputId": "5042eee8-1ef1-4236-f2f0-342b0ba33b15"
      },
      "outputs": [
        {
          "output_type": "stream",
          "name": "stdout",
          "text": [
            "tup3: ('I', 'r', 'o', 'n', 'h', 'a', 'c', 'k')\n",
            "¿tup3 es igual a tup? True\n"
          ]
        }
      ],
      "source": [
        "tup = (\"I\", \"r\", \"o\", \"n\", \"h\", \"a\", \"c\", \"k\")\n",
        "\n",
        "tup1 = tup[:4]   # Primeros 4 elementos\n",
        "tup2 = tup[-4:]  # Últimos 4 elementos\n",
        "\n",
        "tup3 = tup1 + tup2  # Concateno las dos tuplas\n",
        "\n",
        "print(\"tup3:\", tup3)\n",
        "print(\"¿tup3 es igual a tup?\", tup3 == tup)  # Comparo tup3 con tup\n"
      ]
    },
    {
      "cell_type": "markdown",
      "metadata": {
        "id": "j4nemafRlRDR"
      },
      "source": [
        "#### Cuenta el número de elementos en `tup1` y `tup2`. Luego suma los dos conteos y verifica si la suma es igual al número de elementos en `tup3`."
      ]
    },
    {
      "cell_type": "code",
      "execution_count": 10,
      "metadata": {
        "colab": {
          "base_uri": "https://localhost:8080/"
        },
        "id": "SvsL2eJElRDR",
        "outputId": "a874e554-8dc3-45d4-d14c-c959452c9068"
      },
      "outputs": [
        {
          "output_type": "stream",
          "name": "stdout",
          "text": [
            "Número de elementos en tup1: 4\n",
            "Número de elementos en tup2: 4\n",
            "Suma de los elementos de tup1 y tup2: 8\n",
            "Número de elementos en tup3: 8\n",
            "¿La suma es igual a la cantidad de elementos en tup3? True\n"
          ]
        }
      ],
      "source": [
        "tup = (\"I\", \"r\", \"o\", \"n\", \"h\", \"a\", \"c\", \"k\")\n",
        "\n",
        "tup1 = tup[:4]   # Primeros 4 elementos\n",
        "tup2 = tup[-4:]  # Últimos 4 elementos\n",
        "\n",
        "tup3 = tup1 + tup2  # Concateno las dos tuplas\n",
        "\n",
        "# Cuento los elementos\n",
        "len_tup1 = len(tup1)\n",
        "len_tup2 = len(tup2)\n",
        "len_tup3 = len(tup3)\n",
        "\n",
        "# Verifico la suma\n",
        "suma_lens = len_tup1 + len_tup2\n",
        "es_igual = suma_lens == len_tup3\n",
        "\n",
        "# Imprimo los resultados\n",
        "print(\"Número de elementos en tup1:\", len_tup1)\n",
        "print(\"Número de elementos en tup2:\", len_tup2)\n",
        "print(\"Suma de los elementos de tup1 y tup2:\", suma_lens)\n",
        "print(\"Número de elementos en tup3:\", len_tup3)\n",
        "print(\"¿La suma es igual a la cantidad de elementos en tup3?\", es_igual)\n"
      ]
    },
    {
      "cell_type": "markdown",
      "metadata": {
        "id": "hpA-2lFDlRDS"
      },
      "source": [
        "#### ¿Cuál es el número de índice de `\"h\"` en `tup3`?"
      ]
    },
    {
      "cell_type": "code",
      "execution_count": 12,
      "metadata": {
        "colab": {
          "base_uri": "https://localhost:8080/"
        },
        "id": "G7MRVWvLlRDS",
        "outputId": "c8022064-9e33-4964-d20c-0bcb003d4914"
      },
      "outputs": [
        {
          "output_type": "stream",
          "name": "stdout",
          "text": [
            "El índice de 'h' en tup3 es: 4\n"
          ]
        }
      ],
      "source": [
        "tup3 = (\"I\", \"r\", \"o\", \"n\", \"h\", \"a\", \"c\", \"k\")  # Tupla completa\n",
        "\n",
        "indice_h = tup3.index(\"h\")  # Encuentro el índice de \"h\"\n",
        "\n",
        "print(\"El índice de 'h' en tup3 es:\", indice_h)"
      ]
    },
    {
      "cell_type": "markdown",
      "metadata": {
        "id": "hclZS6g9lRDT"
      },
      "source": [
        "#### Ahora, usa un bucle FOR para verificar si cada letra en la siguiente lista está presente en `tup3`:\n",
        "\n",
        "\n",
        "```\n",
        "letters = [\"a\", \"b\", \"c\", \"d\", \"e\"]\n",
        "```\n",
        "\n",
        "\n",
        "Para cada letra que verifiques, imprime `True` si está presente en `tup3`, de lo contrario imprime `False`.\n",
        "\n",
        "*Sugerencia: solo necesitas hacer un bucle con `letters`. No necesitas hacer un bucle con `tup3` porque hay un operador de Python `in` que puedes usar. Consulta la [referencia](https://stackoverflow.com/questions/17920147/how-to-check-if-a-tuple-contains-an-element-in-python).*"
      ]
    },
    {
      "cell_type": "code",
      "execution_count": 13,
      "metadata": {
        "colab": {
          "base_uri": "https://localhost:8080/"
        },
        "id": "PwMOewoylRDT",
        "outputId": "99b2a230-706a-45a0-a779-7dccceeff9bd"
      },
      "outputs": [
        {
          "output_type": "stream",
          "name": "stdout",
          "text": [
            "La letra 'a' está en tup3.\n",
            "La letra 'b' NO está en tup3.\n",
            "La letra 'c' está en tup3.\n",
            "La letra 'd' NO está en tup3.\n",
            "La letra 'e' NO está en tup3.\n"
          ]
        }
      ],
      "source": [
        "tup3 = (\"I\", \"r\", \"o\", \"n\", \"h\", \"a\", \"c\", \"k\")\n",
        "letters = [\"a\", \"b\", \"c\", \"d\", \"e\"]\n",
        "\n",
        "for letter in letters:\n",
        "    if letter in tup3:\n",
        "        print(f\"La letra '{letter}' está en tup3.\")\n",
        "    else:\n",
        "        print(f\"La letra '{letter}' NO está en tup3.\")"
      ]
    },
    {
      "cell_type": "code",
      "execution_count": 14,
      "metadata": {
        "colab": {
          "base_uri": "https://localhost:8080/"
        },
        "id": "tnojpWxAlRDU",
        "outputId": "ab140472-55df-471a-b970-610cb5becea8"
      },
      "outputs": [
        {
          "output_type": "stream",
          "name": "stdout",
          "text": [
            "True\n",
            "False\n",
            "True\n",
            "False\n",
            "False\n"
          ]
        }
      ],
      "source": [
        "tup3 = (\"I\", \"r\", \"o\", \"n\", \"h\", \"a\", \"c\", \"k\")\n",
        "letters = [\"a\", \"b\", \"c\", \"d\", \"e\"]\n",
        "\n",
        "for letter in letters:\n",
        "    print(letter in tup3)  # Imprime True o False dependiendo si la letra está en tup3"
      ]
    },
    {
      "cell_type": "markdown",
      "metadata": {
        "id": "qGv6bVL-lRDV"
      },
      "source": [
        "#### ¿Cuántas veces aparece cada letra de `letters` en `tup3`?\n",
        "\n",
        "Imprime el número de ocurrencias de cada letra."
      ]
    },
    {
      "cell_type": "code",
      "execution_count": 15,
      "metadata": {
        "colab": {
          "base_uri": "https://localhost:8080/"
        },
        "id": "ziF_hcWklRDV",
        "outputId": "9c022a83-d1ad-4328-a8da-9c52b5993cd2"
      },
      "outputs": [
        {
          "output_type": "stream",
          "name": "stdout",
          "text": [
            "La letra 'a' aparece 1 veces en tup3.\n",
            "La letra 'b' aparece 0 veces en tup3.\n",
            "La letra 'c' aparece 1 veces en tup3.\n",
            "La letra 'd' aparece 0 veces en tup3.\n",
            "La letra 'e' aparece 0 veces en tup3.\n"
          ]
        }
      ],
      "source": [
        "tup3 = (\"I\", \"r\", \"o\", \"n\", \"h\", \"a\", \"c\", \"k\")\n",
        "letters = [\"a\", \"b\", \"c\", \"d\", \"e\"]\n",
        "\n",
        "for letter in letters:\n",
        "    print(f\"La letra '{letter}' aparece {tup3.count(letter)} veces en tup3.\")"
      ]
    },
    {
      "cell_type": "markdown",
      "metadata": {
        "id": "d1QKevs3lRDW"
      },
      "source": [
        "## Desafío 2: Conjuntos\n",
        "\n",
        "Hay mucho que aprender sobre los Conjuntos en Python y la información presentada en la lección es limitada debido a su longitud. Para aprender a fondo sobre los Conjuntos en Python, te recomendamos encarecidamente que revises el tutorial de W3Schools sobre [Ejemplos y Métodos de Conjuntos en Python](https://www.w3schools.com/python/python_sets.asp) antes de trabajar en este laboratorio. Algunas preguntas difíciles de este laboratorio tienen sus soluciones en el tutorial de W3Schools.\n",
        "\n",
        "#### Primero, importa la biblioteca `random` de Python."
      ]
    },
    {
      "cell_type": "code",
      "execution_count": 16,
      "metadata": {
        "id": "LGAQysQrlRDW"
      },
      "outputs": [],
      "source": [
        "import random"
      ]
    },
    {
      "cell_type": "markdown",
      "metadata": {
        "id": "4taOqipJlRDX"
      },
      "source": [
        "#### En la celda de abajo, crea una lista llamada `sample_list_1` con 80 valores aleatorios.\n",
        "\n",
        "Requisitos:\n",
        "\n",
        "* Cada valor es un entero entre 0 y 100.\n",
        "* Cada valor en la lista es único.\n",
        "\n",
        "Imprime `sample_list_1` para revisar sus valores.\n",
        "\n",
        "*Sugerencia: usa `random.sample` ([referencia](https://docs.python.org/3/library/random.html#random.sample)).*"
      ]
    },
    {
      "cell_type": "code",
      "execution_count": 17,
      "metadata": {
        "colab": {
          "base_uri": "https://localhost:8080/"
        },
        "id": "UoV8TXc_lRDY",
        "outputId": "79aa344d-a1d5-4f83-f5da-c715b6364875"
      },
      "outputs": [
        {
          "output_type": "stream",
          "name": "stdout",
          "text": [
            "[85, 76, 20, 49, 52, 13, 30, 22, 55, 5, 15, 0, 10, 93, 16, 41, 60, 73, 56, 24, 74, 75, 72, 94, 71, 44, 47, 70, 36, 78, 48, 39, 11, 38, 79, 4, 95, 40, 68, 51, 63, 43, 97, 3, 99, 84, 1, 29, 45, 32, 25, 86, 9, 82, 2, 96, 83, 28, 19, 91, 54, 27, 33, 81, 14, 17, 42, 37, 69, 7, 64, 61, 77, 12, 46, 50, 62, 6, 31, 21]\n"
          ]
        }
      ],
      "source": [
        "# Genero una lista de 80 valores únicos entre 0 y 100\n",
        "sample_list_1 = random.sample(range(101), 80)\n",
        "\n",
        "# Imprimo la lista para revisar sus valores\n",
        "print(sample_list_1)"
      ]
    },
    {
      "cell_type": "markdown",
      "metadata": {
        "id": "OhVrxz93lRDY"
      },
      "source": [
        "#### Convierte `sample_list_1` en un conjunto llamado `set1`. Imprime la longitud del conjunto. ¿Su longitud sigue siendo 80?"
      ]
    },
    {
      "cell_type": "code",
      "execution_count": 18,
      "metadata": {
        "colab": {
          "base_uri": "https://localhost:8080/"
        },
        "id": "FdcB1-pllRDY",
        "outputId": "1d8042f0-74a8-4571-e48d-f4d476095b1d"
      },
      "outputs": [
        {
          "output_type": "stream",
          "name": "stdout",
          "text": [
            "La longitud del conjunto es: 80\n"
          ]
        }
      ],
      "source": [
        "# Convierto sample_list_1 en un conjunto\n",
        "set1 = set(sample_list_1)\n",
        "\n",
        "# Imprimo la longitud del conjunto\n",
        "print(\"La longitud del conjunto es:\", len(set1))"
      ]
    },
    {
      "cell_type": "markdown",
      "metadata": {
        "id": "8unR81CflRDZ"
      },
      "source": [
        "#### Crea otra lista llamada `sample_list_2` con 80 valores aleatorios.\n",
        "\n",
        "Requisitos:\n",
        "\n",
        "* Cada valor es un entero entre 0 y 100.\n",
        "* Los valores en la lista no tienen que ser únicos.\n",
        "\n",
        "*Sugerencia: Usa un bucle FOR.*"
      ]
    },
    {
      "cell_type": "code",
      "execution_count": 19,
      "metadata": {
        "colab": {
          "base_uri": "https://localhost:8080/"
        },
        "id": "RgN0KV0BlRDZ",
        "outputId": "dc250b4e-8991-4874-86de-6293dcad064d"
      },
      "outputs": [
        {
          "output_type": "stream",
          "name": "stdout",
          "text": [
            "[35, 60, 58, 22, 79, 54, 55, 27, 73, 40, 2, 53, 7, 51, 80, 3, 33, 24, 65, 41, 92, 36, 34, 46, 68, 28, 76, 68, 88, 82, 19, 83, 4, 26, 37, 29, 23, 84, 55, 87, 30, 84, 2, 20, 20, 10, 25, 51, 9, 5, 11, 55, 37, 5, 22, 6, 17, 31, 3, 83, 39, 76, 38, 42, 88, 9, 69, 78, 14, 5, 44, 84, 7, 81, 29, 83, 62, 29, 17, 32]\n"
          ]
        }
      ],
      "source": [
        "# Creo la lista con 80 valores aleatorios entre 0 y 100 (no necesariamente únicos)\n",
        "sample_list_2 = []\n",
        "\n",
        "for _ in range(80):\n",
        "    sample_list_2.append(random.randint(0, 100))\n",
        "\n",
        "# Imprimo la lista\n",
        "print(sample_list_2)"
      ]
    },
    {
      "cell_type": "markdown",
      "metadata": {
        "id": "8Eh3TY-dlRDa"
      },
      "source": [
        "#### Convierte `sample_list_2` en un conjunto llamado `set2`. Imprime la longitud del conjunto. ¿Su longitud sigue siendo 80?"
      ]
    },
    {
      "cell_type": "code",
      "execution_count": 20,
      "metadata": {
        "colab": {
          "base_uri": "https://localhost:8080/"
        },
        "id": "YzWWssgFlRDb",
        "outputId": "88091e9d-022d-47cb-dd91-079f37ca27f1"
      },
      "outputs": [
        {
          "output_type": "stream",
          "name": "stdout",
          "text": [
            "La longitud del conjunto es: 58\n"
          ]
        }
      ],
      "source": [
        "# Convierto sample_list_2 en un conjunto\n",
        "set2 = set(sample_list_2)\n",
        "\n",
        "# Imprimo la longitud del conjunto\n",
        "print(\"La longitud del conjunto es:\", len(set2))"
      ]
    },
    {
      "cell_type": "markdown",
      "metadata": {
        "id": "O80PzZ5PlRDc"
      },
      "source": [
        "#### Identifica los elementos presentes en `set1` pero no en `set2`. Asigna los elementos a un nuevo conjunto llamado `set3`."
      ]
    },
    {
      "cell_type": "code",
      "execution_count": 21,
      "metadata": {
        "colab": {
          "base_uri": "https://localhost:8080/"
        },
        "id": "LUl02EpwlRDe",
        "outputId": "529ef52a-b749-4b3a-f6b5-dbb0943f5900"
      },
      "outputs": [
        {
          "output_type": "stream",
          "name": "stdout",
          "text": [
            "Elementos presentes en set1 pero no en set2: {0, 1, 12, 13, 15, 16, 21, 43, 45, 47, 48, 49, 50, 52, 56, 61, 63, 64, 70, 71, 72, 74, 75, 77, 85, 86, 91, 93, 94, 95, 96, 97, 99}\n"
          ]
        }
      ],
      "source": [
        "# Identifico los elementos que están en set1 pero no en set2\n",
        "set3 = set1 - set2\n",
        "\n",
        "# Imprimo el conjunto resultante\n",
        "print(\"Elementos presentes en set1 pero no en set2:\", set3)"
      ]
    },
    {
      "cell_type": "markdown",
      "metadata": {
        "id": "hjc2NpPolRDf"
      },
      "source": [
        "#### Identifica los elementos presentes en `set2` pero no en `set1`. Asigna los elementos a un nuevo conjunto llamado `set4`."
      ]
    },
    {
      "cell_type": "code",
      "execution_count": 22,
      "metadata": {
        "colab": {
          "base_uri": "https://localhost:8080/"
        },
        "id": "1tckwCcRlRDf",
        "outputId": "3b8144c4-23ac-496a-bd90-c324613d37b8"
      },
      "outputs": [
        {
          "output_type": "stream",
          "name": "stdout",
          "text": [
            "Elementos presentes en set2 pero no en set1: {65, 34, 35, 58, 80, 53, 87, 23, 88, 26, 92}\n"
          ]
        }
      ],
      "source": [
        "# Identifico los elementos que están en set2 pero no en set1\n",
        "set4 = set2 - set1\n",
        "\n",
        "# Imprimo el conjunto resultante\n",
        "print(\"Elementos presentes en set2 pero no en set1:\", set4)"
      ]
    },
    {
      "cell_type": "markdown",
      "metadata": {
        "id": "UggJrU17lRDg"
      },
      "source": [
        "#### Ahora identifica los elementos compartidos entre `set1` y `set2`. Asigna los elementos a un nuevo conjunto llamado `set5`."
      ]
    },
    {
      "cell_type": "code",
      "execution_count": 23,
      "metadata": {
        "colab": {
          "base_uri": "https://localhost:8080/"
        },
        "id": "bGcFgkoqlRDg",
        "outputId": "3cf8bab9-4b8d-4773-a823-07c9466b8c2c"
      },
      "outputs": [
        {
          "output_type": "stream",
          "name": "stdout",
          "text": [
            "Elementos compartidos entre set1 y set2: {2, 3, 4, 5, 6, 7, 9, 10, 11, 14, 17, 19, 20, 22, 24, 25, 27, 28, 29, 30, 31, 32, 33, 36, 37, 38, 39, 40, 41, 42, 44, 46, 51, 54, 55, 60, 62, 68, 69, 73, 76, 78, 79, 81, 82, 83, 84}\n"
          ]
        }
      ],
      "source": [
        "# Identifico los elementos que están en ambos conjuntos, set1 y set2\n",
        "set5 = set1 & set2\n",
        "\n",
        "# Imprimo el conjunto resultante\n",
        "print(\"Elementos compartidos entre set1 y set2:\", set5)"
      ]
    },
    {
      "cell_type": "markdown",
      "metadata": {
        "id": "V4ZgZxWPlRDh"
      },
      "source": [
        "#### ¿Cuál es la relación entre los siguientes valores?\n",
        "\n",
        "* len(set1)\n",
        "* len(set2)\n",
        "* len(set3)\n",
        "* len(set4)\n",
        "* len(set5)\n",
        "\n",
        "Usa una fórmula matemática para representar esa relación. Prueba tu fórmula con código Python."
      ]
    },
    {
      "cell_type": "code",
      "source": [
        "# Compruebo la relación de las longitudes de los conjuntos\n",
        "len_set1 = len(set1)\n",
        "len_set2 = len(set2)\n",
        "len_set3 = len(set3)\n",
        "len_set4 = len(set4)\n",
        "len_set5 = len(set5)\n",
        "\n",
        "# Aplico la fórmula\n",
        "check_formula_1 = len_set1 == len_set3 + len_set5\n",
        "check_formula_2 = len_set2 == len_set4 + len_set5\n",
        "check_formula_3 = len_set1 + len_set2 == len_set3 + len_set4 + 2*len_set5"
      ],
      "metadata": {
        "id": "chQ0re3gs42g"
      },
      "execution_count": 27,
      "outputs": []
    },
    {
      "cell_type": "code",
      "execution_count": 28,
      "metadata": {
        "colab": {
          "base_uri": "https://localhost:8080/"
        },
        "id": "LmUjnTrglRDh",
        "outputId": "0db07a23-2400-44c0-cb3f-ac4573ec8b68"
      },
      "outputs": [
        {
          "output_type": "stream",
          "name": "stdout",
          "text": [
            "¿len(set1) == len(set3) + len(set5)? True\n",
            "¿len(set2) == len(set4) + len(set5)? True\n",
            "¿len(set1) + len(set2) == len(set3) + len(set4) + 2*len(set5)? True\n"
          ]
        }
      ],
      "source": [
        "# Imprimo los resultados\n",
        "print(\"¿len(set1) == len(set3) + len(set5)?\", check_formula_1)\n",
        "print(\"¿len(set2) == len(set4) + len(set5)?\", check_formula_2)\n",
        "print(\"¿len(set1) + len(set2) == len(set3) + len(set4) + 2*len(set5)?\", check_formula_3)"
      ]
    },
    {
      "cell_type": "markdown",
      "metadata": {
        "id": "Z1hJF_yAlRDk"
      },
      "source": [
        "#### Crea un conjunto vacío llamado `set6`."
      ]
    },
    {
      "cell_type": "code",
      "execution_count": 29,
      "metadata": {
        "colab": {
          "base_uri": "https://localhost:8080/"
        },
        "id": "TEFT-8IplRDk",
        "outputId": "90637e8d-c5ed-4c3f-93b0-f0e77f3fa1a1"
      },
      "outputs": [
        {
          "output_type": "stream",
          "name": "stdout",
          "text": [
            "set()\n"
          ]
        }
      ],
      "source": [
        "# Creo un conjunto vacío llamado set6\n",
        "set6 = set()\n",
        "\n",
        "# Imprimo set6 para confirmar que está vacío\n",
        "print(set6)"
      ]
    },
    {
      "cell_type": "markdown",
      "metadata": {
        "id": "acQM_KzglRDl"
      },
      "source": [
        "#### Añade `set3` y `set5` a `set6` usando el método `update` de los Conjuntos de Python."
      ]
    },
    {
      "cell_type": "code",
      "execution_count": 30,
      "metadata": {
        "colab": {
          "base_uri": "https://localhost:8080/"
        },
        "id": "Ki6KWZb4lRDl",
        "outputId": "6c75b748-a213-4c3f-d0c2-102f9a67884d"
      },
      "outputs": [
        {
          "output_type": "stream",
          "name": "stdout",
          "text": [
            "{0, 1, 2, 3, 4, 5, 6, 7, 9, 10, 11, 12, 13, 14, 15, 16, 17, 19, 20, 21, 22, 24, 25, 27, 28, 29, 30, 31, 32, 33, 36, 37, 38, 39, 40, 41, 42, 43, 44, 45, 46, 47, 48, 49, 50, 51, 52, 54, 55, 56, 60, 61, 62, 63, 64, 68, 69, 70, 71, 72, 73, 74, 75, 76, 77, 78, 79, 81, 82, 83, 84, 85, 86, 91, 93, 94, 95, 96, 97, 99}\n"
          ]
        }
      ],
      "source": [
        "# Añado los elementos de set3 y set5 a set6\n",
        "set6.update(set3)\n",
        "set6.update(set5)\n",
        "\n",
        "# Imprimo set6 para verificar que los elementos se han añadido\n",
        "print(set6)"
      ]
    },
    {
      "cell_type": "markdown",
      "metadata": {
        "id": "lJv-UtMGlRDm"
      },
      "source": [
        "#### Verifica si `set1` y `set6` son iguales."
      ]
    },
    {
      "cell_type": "code",
      "execution_count": 31,
      "metadata": {
        "colab": {
          "base_uri": "https://localhost:8080/"
        },
        "id": "yGB3C24RlRDm",
        "outputId": "2eb3941d-399b-4da0-96d0-fb177a68c137"
      },
      "outputs": [
        {
          "output_type": "stream",
          "name": "stdout",
          "text": [
            "¿set1 y set6 son iguales? True\n"
          ]
        }
      ],
      "source": [
        "# Verificamos si set1 y set6 son iguales\n",
        "are_sets_equal = set1 == set6\n",
        "\n",
        "# Imprimimos el resultado\n",
        "print(\"¿set1 y set6 son iguales?\", are_sets_equal)"
      ]
    },
    {
      "cell_type": "markdown",
      "metadata": {
        "id": "o7LQV83ylRDo"
      },
      "source": [
        "#### Comprueba si `set1` contiene a `set2` utilizando el método `issubset` de los Conjuntos de Python. Luego verifica si `set1` contiene a `set3`."
      ]
    },
    {
      "cell_type": "code",
      "execution_count": 32,
      "metadata": {
        "colab": {
          "base_uri": "https://localhost:8080/"
        },
        "id": "BzgtfwqYlRDp",
        "outputId": "ee401ae0-6c71-4dfa-c91b-5b81340cb864"
      },
      "outputs": [
        {
          "output_type": "stream",
          "name": "stdout",
          "text": [
            "¿set1 es subconjunto de set2? False\n",
            "¿set1 es subconjunto de set3? False\n"
          ]
        }
      ],
      "source": [
        "# Compruebo si set1 es un subconjunto de set2\n",
        "is_set1_subset_set2 = set1.issubset(set2)\n",
        "\n",
        "# Compruebo si set1 es un subconjunto de set3\n",
        "is_set1_subset_set3 = set1.issubset(set3)\n",
        "\n",
        "# Imprimo los resultados\n",
        "print(\"¿set1 es subconjunto de set2?\", is_set1_subset_set2)\n",
        "print(\"¿set1 es subconjunto de set3?\", is_set1_subset_set3)"
      ]
    },
    {
      "cell_type": "markdown",
      "metadata": {
        "id": "mEKDGpb0lRDq"
      },
      "source": [
        "#### Utilizando el método `union` de los Conjuntos de Python, agrega `set3`, `set4` y `set5`. Luego agrega `set1` y `set2`.\n",
        "\n",
        "#### Verifica si los valores agregados son iguales."
      ]
    },
    {
      "cell_type": "code",
      "execution_count": 34,
      "metadata": {
        "colab": {
          "base_uri": "https://localhost:8080/"
        },
        "id": "meG7pomvlRDq",
        "outputId": "7a44ae32-50fe-43b2-a8a5-dd9782815535"
      },
      "outputs": [
        {
          "output_type": "stream",
          "name": "stdout",
          "text": [
            "¿Los conjuntos unidos son iguales? True\n"
          ]
        }
      ],
      "source": [
        "# Combino set3, set4 y set5\n",
        "union_set1 = set3.union(set4, set5)\n",
        "\n",
        "# Combino set1 y set2\n",
        "union_set2 = set1.union(set2)\n",
        "\n",
        "# Verifico si los conjuntos unidos son iguales\n",
        "are_unions_equal = union_set1 == union_set2\n",
        "\n",
        "# Imprimo el resultado\n",
        "print(\"¿Los conjuntos unidos son iguales?\", are_unions_equal)"
      ]
    },
    {
      "cell_type": "markdown",
      "metadata": {
        "id": "O8fxwh2YlRDq"
      },
      "source": [
        "#### Utilizando el método `pop`, elimina el primer elemento de `set1`."
      ]
    },
    {
      "cell_type": "code",
      "execution_count": 35,
      "metadata": {
        "colab": {
          "base_uri": "https://localhost:8080/"
        },
        "id": "pIOQEdttlRDr",
        "outputId": "842ed853-753e-4ed9-eaec-9647259370e2"
      },
      "outputs": [
        {
          "output_type": "stream",
          "name": "stdout",
          "text": [
            "Elemento eliminado: 0\n",
            "Conjunto set1 después de la operación pop: {1, 2, 3, 4, 5, 6, 7, 9, 10, 11, 12, 13, 14, 15, 16, 17, 19, 20, 21, 22, 24, 25, 27, 28, 29, 30, 31, 32, 33, 36, 37, 38, 39, 40, 41, 42, 43, 44, 45, 46, 47, 48, 49, 50, 51, 52, 54, 55, 56, 60, 61, 62, 63, 64, 68, 69, 70, 71, 72, 73, 74, 75, 76, 77, 78, 79, 81, 82, 83, 84, 85, 86, 91, 93, 94, 95, 96, 97, 99}\n"
          ]
        }
      ],
      "source": [
        "# Elimino un elemento aleatorio de set1\n",
        "removed_element = set1.pop()\n",
        "\n",
        "# Imprimo el elemento eliminado y el conjunto resultante\n",
        "print(\"Elemento eliminado:\", removed_element)\n",
        "print(\"Conjunto set1 después de la operación pop:\", set1)"
      ]
    },
    {
      "cell_type": "markdown",
      "metadata": {
        "id": "dL2Ebi7ilRDr"
      },
      "source": [
        "#### Elimina cada elemento en la siguiente lista de `set1` si están presentes en el conjunto. Imprime los elementos restantes.\n",
        "\n",
        "```\n",
        "list_to_remove = [1, 9, 11, 19, 21, 29, 31, 39, 41, 49, 51, 59, 61, 69, 71, 79, 81, 89, 91, 99]\n",
        "```"
      ]
    },
    {
      "cell_type": "code",
      "execution_count": 38,
      "metadata": {
        "colab": {
          "base_uri": "https://localhost:8080/"
        },
        "id": "9h1y3fQOlRDt",
        "outputId": "7f57c656-9df2-40cb-a35f-c927107282a0"
      },
      "outputs": [
        {
          "output_type": "stream",
          "name": "stdout",
          "text": [
            "Elementos restantes en set1: {1, 2, 3, 4, 5, 6, 7, 9, 11, 12, 13, 14, 15, 16, 17, 19, 21, 22, 24, 25, 27, 28, 29, 31, 32, 33, 36, 37, 38, 39, 41, 42, 43, 44, 45, 46, 47, 48, 49, 51, 52, 54, 55, 56, 60, 61, 62, 63, 64, 68, 69, 70, 71, 72, 73, 74, 75, 76, 77, 78, 79, 81, 82, 83, 84, 85, 86, 91, 93, 94, 95, 96, 97, 99}\n"
          ]
        }
      ],
      "source": [
        "# Lista de elementos a eliminar\n",
        "elements_to_remove = [10, 20, 30, 40, 50]\n",
        "\n",
        "# Elimino los elementos de set1 si están presentes\n",
        "for element in elements_to_remove:\n",
        "    set1.discard(element)\n",
        "\n",
        "# Imprimo los elementos restantes en set1\n",
        "print(\"Elementos restantes en set1:\", set1)"
      ]
    },
    {
      "cell_type": "markdown",
      "metadata": {
        "id": "H3h26WK5lRDt"
      },
      "source": [
        "## BONUS - Desafío 3: Diccionarios\n",
        "\n",
        "En este desafío practicarás cómo manipular diccionarios en Python. Antes de empezar este desafío, te animamos a revisar los [Ejemplos y Métodos de Diccionarios en Python](https://www.w3schools.com/python/python_dictionaries.asp) de W3School.\n",
        "\n",
        "Lo primero que practicarás es cómo ordenar las claves en un diccionario. A diferencia del objeto de lista, el diccionario de Python no tiene un método *sort* incorporado. Necesitarás usar bucles FOR para ordenar los diccionarios ya sea por clave o por valor.\n",
        "\n",
        "El diccionario a continuación es un resumen de la frecuencia de palabras de la canción *Shape of You* de Ed Sheeran. Cada clave es una palabra en la letra y el valor es el número de veces que esa palabra aparece en la letra."
      ]
    },
    {
      "cell_type": "code",
      "execution_count": 39,
      "metadata": {
        "id": "06hSg32alRDu"
      },
      "outputs": [],
      "source": [
        "word_freq = {'love': 25, 'conversation': 1, 'every': 6, \"we're\": 1, 'plate': 1, 'sour': 1, 'jukebox': 1, 'now': 11, 'taxi': 1, 'fast': 1, 'bag': 1, 'man': 1, 'push': 3, 'baby': 14, 'going': 1, 'you': 16, \"don't\": 2, 'one': 1, 'mind': 2, 'backseat': 1, 'friends': 1, 'then': 3, 'know': 2, 'take': 1, 'play': 1, 'okay': 1, 'so': 2, 'begin': 1, 'start': 2, 'over': 1, 'body': 17, 'boy': 2, 'just': 1, 'we': 7, 'are': 1, 'girl': 2, 'tell': 1, 'singing': 2, 'drinking': 1, 'put': 3, 'our': 1, 'where': 1, \"i'll\": 1, 'all': 1, \"isn't\": 1, 'make': 1, 'lover': 1, 'get': 1, 'radio': 1, 'give': 1, \"i'm\": 23, 'like': 10, 'can': 1, 'doing': 2, 'with': 22, 'club': 1, 'come': 37, 'it': 1, 'somebody': 2, 'handmade': 2, 'out': 1, 'new': 6, 'room': 3, 'chance': 1, 'follow': 6, 'in': 27, 'may': 2, 'brand': 6, 'that': 2, 'magnet': 3, 'up': 3, 'first': 1, 'and': 23, 'pull': 3, 'of': 6, 'table': 1, 'much': 2, 'last': 3, 'i': 6, 'thrifty': 1, 'grab': 2, 'was': 2, 'driver': 1, 'slow': 1, 'dance': 1, 'the': 18, 'say': 2, 'trust': 1, 'family': 1, 'week': 1, 'date': 1, 'me': 10, 'do': 3, 'waist': 2, 'smell': 3, 'day': 6, 'although': 3, 'your': 21, 'leave': 1, 'want': 2, \"let's\": 2, 'lead': 6, 'at': 1, 'hand': 1, 'how': 1, 'talk': 4, 'not': 2, 'eat': 1, 'falling': 3, 'about': 1, 'story': 1, 'sweet': 1, 'best': 1, 'crazy': 2, 'let': 1, 'too': 5, 'van': 1, 'shots': 1, 'go': 2, 'to': 2, 'a': 8, 'my': 33, 'is': 5, 'place': 1, 'find': 1, 'shape': 6, 'on': 40, 'kiss': 1, 'were': 3, 'night': 3, 'heart': 3, 'for': 3, 'discovering': 6, 'something': 6, 'be': 16, 'bedsheets': 3, 'fill': 2, 'hours': 2, 'stop': 1, 'bar': 1}"
      ]
    },
    {
      "cell_type": "markdown",
      "metadata": {
        "id": "L8tsNFSalRDu"
      },
      "source": [
        "#### Ordena las claves de `word_freq` de forma ascendente.\n",
        "\n",
        "Por favor, crea un nuevo diccionario llamado `word_freq2` basado en `word_freq` con las claves ordenadas de forma ascendente.\n",
        "\n",
        "Hay varias formas de lograr ese objetivo, pero muchas de ellas van más allá de lo que hemos cubierto hasta ahora en el curso. Hay una forma que describiremos empleando lo que has aprendido. Por favor, siéntete libre de usar esta forma o cualquier otra que desees.\n",
        "\n",
        "1. Primero extrae las claves de `word_freq` y conviértelas en una lista llamada `keys`.\n",
        "\n",
        "1. Ordena la lista `keys`.\n",
        "\n",
        "1. Crea un diccionario vacío `word_freq2`.\n",
        "\n",
        "1. Usa un bucle FOR para iterar cada valor en `keys`. Para cada clave iterada, encuentra el valor correspondiente en `word_freq` e inserta el par clave-valor en `word_freq2`.\n",
        "\n",
        "📖 [Documentación para un bucle for](https://docs.python.org/3/reference/compound_stmts.html#for)\n",
        "\n",
        "Imprime `word_freq2` para examinar sus claves y valores. Tu salida debería ser:\n",
        "\n",
        "```python\n",
        "{'a': 8, 'about': 1, 'all': 1, 'although': 3, 'and': 23, 'are': 1, 'at': 1, 'baby': 14, 'backseat': 1, 'bag': 1, 'bar': 1, 'be': 16, 'bedsheets': 3, 'begin': 1, 'best': 1, 'body': 17, 'boy': 2, 'brand': 6, 'can': 1, 'chance': 1, 'club': 1, 'come': 37, 'conversation': 1, 'crazy': 2, 'dance': 1, 'date': 1, 'day': 6, 'discovering': 6, 'do': 3, 'doing': 2, \"don't\": 2, 'drinking': 1, 'driver': 1, 'eat': 1, 'every': 6, 'falling': 3, 'family': 1, 'fast': 1, 'fill': 2, 'find': 1, 'first': 1, 'follow': 6, 'for': 3, 'friends': 1, 'get': 1, 'girl': 2, 'give': 1, 'go': 2, 'going': 1, 'grab': 2, 'hand': 1, 'handmade': 2, 'heart': 3, 'hours': 2, 'how': 1, 'i': 6, \"i'll\": 1, \"i'm\": 23, 'in': 27, 'is': 5, \"isn't\": 1, 'it': 1, 'jukebox': 1, 'just': 1, 'kiss': 1, 'know': 2, 'last': 3, 'lead': 6, 'leave': 1, 'let': 1, \"let's\": 2, 'like': 10, 'love': 25, 'lover': 1, 'magnet': 3, 'make': 1, 'man': 1, 'may': 2, 'me': 10, 'mind': 2, 'much': 2, 'my': 33, 'new': 6, 'night': 3, 'not': 2, 'now': 11, 'of': 6, 'okay': 1, 'on': 40, 'one': 1, 'our': 1, 'out': 1, 'over': 1, 'place': 1, 'plate': 1, 'play': 1, 'pull': 3, 'push': 3, 'put': 3, 'radio': 1, 'room': 3, 'say': 2, 'shape': 6, 'shots': 1, 'singing': 2, 'slow': 1, 'smell': 3, 'so': 2, 'somebody': 2, 'something': 6, 'sour': 1, 'start': 2, 'stop': 1, 'story': 1, 'sweet': 1, 'table': 1, 'take': 1, 'talk': 4, 'taxi': 1, 'tell': 1, 'that': 2, 'the': 18, 'then': 3, 'thrifty': 1, 'to': 2, 'too': 5, 'trust': 1, 'up': 3, 'van': 1, 'waist': 2, 'want': 2, 'was': 2, 'we': 7, \"we're\": 1, 'week': 1, 'were': 3, 'where': 1, 'with': 22, 'you': 16, 'your': 21}\n",
        "```"
      ]
    },
    {
      "cell_type": "code",
      "execution_count": 40,
      "metadata": {
        "colab": {
          "base_uri": "https://localhost:8080/"
        },
        "id": "_DZdoUtylRDv",
        "outputId": "729111ab-bf12-43a8-b759-9fc0beac0b49"
      },
      "outputs": [
        {
          "output_type": "stream",
          "name": "stdout",
          "text": [
            "{'a': 8, 'about': 1, 'all': 1, 'although': 3, 'and': 23, 'are': 1, 'at': 1, 'baby': 14, 'backseat': 1, 'bag': 1, 'bar': 1, 'be': 16, 'bedsheets': 3, 'begin': 1, 'best': 1, 'body': 17, 'boy': 2, 'brand': 6, 'can': 1, 'chance': 1, 'club': 1, 'come': 37, 'conversation': 1, 'crazy': 2, 'dance': 1, 'date': 1, 'day': 6, 'discovering': 6, 'do': 3, 'doing': 2, \"don't\": 2, 'drinking': 1, 'driver': 1, 'eat': 1, 'every': 6, 'falling': 3, 'family': 1, 'fast': 1, 'fill': 2, 'find': 1, 'first': 1, 'follow': 6, 'for': 3, 'friends': 1, 'get': 1, 'girl': 2, 'give': 1, 'go': 2, 'going': 1, 'grab': 2, 'hand': 1, 'handmade': 2, 'heart': 3, 'hours': 2, 'how': 1, 'i': 6, \"i'll\": 1, \"i'm\": 23, 'in': 27, 'is': 5, \"isn't\": 1, 'it': 1, 'jukebox': 1, 'just': 1, 'kiss': 1, 'know': 2, 'last': 3, 'lead': 6, 'leave': 1, 'let': 1, \"let's\": 2, 'like': 10, 'love': 25, 'lover': 1, 'magnet': 3, 'make': 1, 'man': 1, 'may': 2, 'me': 10, 'mind': 2, 'much': 2, 'my': 33, 'new': 6, 'night': 3, 'not': 2, 'now': 11, 'of': 6, 'okay': 1, 'on': 40, 'one': 1, 'our': 1, 'out': 1, 'over': 1, 'place': 1, 'plate': 1, 'play': 1, 'pull': 3, 'push': 3, 'put': 3, 'radio': 1, 'room': 3, 'say': 2, 'shape': 6, 'shots': 1, 'singing': 2, 'slow': 1, 'smell': 3, 'so': 2, 'somebody': 2, 'something': 6, 'sour': 1, 'start': 2, 'stop': 1, 'story': 1, 'sweet': 1, 'table': 1, 'take': 1, 'talk': 4, 'taxi': 1, 'tell': 1, 'that': 2, 'the': 18, 'then': 3, 'thrifty': 1, 'to': 2, 'too': 5, 'trust': 1, 'up': 3, 'van': 1, 'waist': 2, 'want': 2, 'was': 2, 'we': 7, \"we're\": 1, 'week': 1, 'were': 3, 'where': 1, 'with': 22, 'you': 16, 'your': 21}\n"
          ]
        }
      ],
      "source": [
        "# Paso 1: Extraigo las claves de word_freq\n",
        "keys = list(word_freq.keys())\n",
        "\n",
        "# Paso 2: Ordeno la lista keys\n",
        "keys.sort()\n",
        "\n",
        "# Paso 3: Creo un diccionario vacío word_freq2\n",
        "word_freq2 = {}\n",
        "\n",
        "# Paso 4: Itero sobre las claves ordenadas y las agrego a word_freq2 con su valor correspondiente\n",
        "for key in keys:\n",
        "    word_freq2[key] = word_freq[key]\n",
        "\n",
        "# Paso 5: Imprimo el diccionario resultante\n",
        "print(word_freq2)"
      ]
    },
    {
      "cell_type": "markdown",
      "metadata": {
        "id": "pNwsXHTBlRDv"
      },
      "source": [
        "#### Ordena los valores de `word_freq` de forma ascendente.\n",
        "\n",
        "Ordenar los valores de un diccionario es más complicado que ordenar las claves porque los valores de un diccionario no son únicos. Por lo tanto, no puedes usar la misma forma en que ordenaste las claves del diccionario para ordenar los valores del diccionario.\n",
        "\n",
        "La forma de ordenar un diccionario por valor es utilizar las funciones `sorted` y `operator.itemgetter`. El siguiente fragmento de código se te proporciona para que lo pruebes. Te dará una lista de tuplas en la que cada tupla contiene la clave y el valor de un elemento del diccionario. Y la lista está ordenada basada en el valor del diccionario ( [referencia](http://thomas-cokelaer.info/blog/2017/12/how-to-sort-a-dictionary-by-values-in-python/)\n",
        ").\n",
        "\n",
        "```python\n",
        "import operator\n",
        "sorted_tups = sorted(word_freq.items(), key=operator.itemgetter(1))\n",
        "print(sorted_tups)\n",
        "```\n",
        "\n",
        "Por lo tanto, los pasos para ordenar `word_freq` por valor son:\n",
        "\n",
        "* Utilizando `sorted` y `operator.itemgetter`, obtén una lista de tuplas de los pares clave-valor del diccionario que está ordenada por el valor.\n",
        "\n",
        "* Crea un diccionario vacío llamado `word_freq2`.\n",
        "\n",
        "* Itera la lista de tuplas. Inserta cada par clave-valor en `word_freq2` como un objeto.\n",
        "\n",
        "Imprime `word_freq2` para confirmar que tu diccionario tiene sus valores ordenados. Tu salida debería ser:\n",
        "\n",
        "```python\n",
        "{'conversation': 1, \"we're\": 1, 'plate': 1, 'sour': 1, 'jukebox': 1, 'taxi': 1, 'fast': 1, 'bag': 1, 'man': 1, 'going': 1, 'one': 1, 'backseat': 1, 'friends': 1, 'take': 1, 'play': 1, 'okay': 1, 'begin': 1, 'over': 1, 'just': 1, 'are': 1, 'tell': 1, 'drinking': 1, 'our': 1, 'where': 1, \"i'll\": 1, 'all': 1, \"isn't\": 1, 'make': 1, 'lover': 1, 'get': 1, 'radio': 1, 'give': 1, 'can': 1, 'club': 1, 'it': 1, 'out': 1, 'chance': 1, 'first': 1, 'table': 1, 'thrifty': 1, 'driver': 1, 'slow': 1, 'dance': 1, 'trust': 1, 'family': 1, 'week': 1, 'date': 1, 'leave': 1, 'at': 1, 'hand': 1, 'how': 1, 'eat': 1, 'about': 1, 'story': 1, 'sweet': 1, 'best': 1, 'let': 1, 'van': 1, 'shots': 1, 'place': 1, 'find': 1, 'kiss': 1, 'stop': 1, 'bar': 1, \"don't\": 2, 'mind': 2, 'know': 2, 'so': 2, 'start': 2, 'boy': 2, 'girl': 2, 'singing': 2, 'doing': 2, 'somebody': 2, 'handmade': 2, 'may': 2, 'that': 2, 'much': 2, 'grab': 2, 'was': 2, 'say': 2, 'waist': 2, 'want': 2, \"let's\": 2, 'not': 2, 'crazy': 2, 'go': 2, 'to': 2, 'fill': 2, 'hours': 2, 'push': 3, 'then': 3, 'put': 3, 'room': 3, 'magnet': 3, 'up': 3, 'pull': 3, 'last': 3, 'do': 3, 'smell': 3, 'although': 3, 'falling': 3, 'were': 3, 'night': 3, 'heart': 3, 'for': 3, 'bedsheets': 3, 'talk': 4, 'too': 5, 'is': 5, 'every': 6, 'new': 6, 'follow': 6, 'brand': 6, 'of': 6, 'i': 6, 'day': 6, 'lead': 6, 'shape': 6, 'discovering': 6, 'something': 6, 'we': 7, 'a': 8, 'like': 10, 'me': 10, 'now': 11, 'baby': 14, 'you': 16, 'be': 16, 'body': 17, 'the': 18, 'your': 21, 'with': 22, \"i'm\": 23, 'and': 23, 'love': 25, 'in': 27, 'my': 33, 'come': 37, 'on': 40}\n",
        "```"
      ]
    },
    {
      "cell_type": "code",
      "execution_count": 42,
      "metadata": {
        "colab": {
          "base_uri": "https://localhost:8080/"
        },
        "id": "xPdht88flRDw",
        "outputId": "42a7add5-9020-41bd-fb45-284460c5020a"
      },
      "outputs": [
        {
          "output_type": "stream",
          "name": "stdout",
          "text": [
            "{'conversation': 1, \"we're\": 1, 'plate': 1, 'sour': 1, 'jukebox': 1, 'taxi': 1, 'fast': 1, 'bag': 1, 'man': 1, 'going': 1, 'one': 1, 'backseat': 1, 'friends': 1, 'take': 1, 'play': 1, 'okay': 1, 'begin': 1, 'over': 1, 'just': 1, 'are': 1, 'tell': 1, 'drinking': 1, 'our': 1, 'where': 1, \"i'll\": 1, 'all': 1, \"isn't\": 1, 'make': 1, 'lover': 1, 'get': 1, 'radio': 1, 'give': 1, 'can': 1, 'club': 1, 'it': 1, 'out': 1, 'chance': 1, 'first': 1, 'table': 1, 'thrifty': 1, 'driver': 1, 'slow': 1, 'dance': 1, 'trust': 1, 'family': 1, 'week': 1, 'date': 1, 'leave': 1, 'at': 1, 'hand': 1, 'how': 1, 'eat': 1, 'about': 1, 'story': 1, 'sweet': 1, 'best': 1, 'let': 1, 'van': 1, 'shots': 1, 'place': 1, 'find': 1, 'kiss': 1, 'stop': 1, 'bar': 1, \"don't\": 2, 'mind': 2, 'know': 2, 'so': 2, 'start': 2, 'boy': 2, 'girl': 2, 'singing': 2, 'doing': 2, 'somebody': 2, 'handmade': 2, 'may': 2, 'that': 2, 'much': 2, 'grab': 2, 'was': 2, 'say': 2, 'waist': 2, 'want': 2, \"let's\": 2, 'not': 2, 'crazy': 2, 'go': 2, 'to': 2, 'fill': 2, 'hours': 2, 'push': 3, 'then': 3, 'put': 3, 'room': 3, 'magnet': 3, 'up': 3, 'pull': 3, 'last': 3, 'do': 3, 'smell': 3, 'although': 3, 'falling': 3, 'were': 3, 'night': 3, 'heart': 3, 'for': 3, 'bedsheets': 3, 'talk': 4, 'too': 5, 'is': 5, 'every': 6, 'new': 6, 'follow': 6, 'brand': 6, 'of': 6, 'i': 6, 'day': 6, 'lead': 6, 'shape': 6, 'discovering': 6, 'something': 6, 'we': 7, 'a': 8, 'like': 10, 'me': 10, 'now': 11, 'baby': 14, 'you': 16, 'be': 16, 'body': 17, 'the': 18, 'your': 21, 'with': 22, \"i'm\": 23, 'and': 23, 'love': 25, 'in': 27, 'my': 33, 'come': 37, 'on': 40}\n"
          ]
        }
      ],
      "source": [
        "import operator\n",
        "\n",
        "# Paso 1: Ordeno los elementos por valor\n",
        "sorted_tups = sorted(word_freq.items(), key=operator.itemgetter(1))\n",
        "\n",
        "# Paso 2: Creo un diccionario vacío\n",
        "word_freq2 = {}\n",
        "\n",
        "# Paso 3: Inserto cada par clave-valor en word_freq2\n",
        "for key, value in sorted_tups:\n",
        "    word_freq2[key] = value\n",
        "\n",
        "# Paso 4: Imprimo el diccionario ordenado\n",
        "print(word_freq2)"
      ]
    }
  ],
  "metadata": {
    "kernelspec": {
      "display_name": "Python 3 (ipykernel)",
      "language": "python",
      "name": "python3"
    },
    "language_info": {
      "codemirror_mode": {
        "name": "ipython",
        "version": 3
      },
      "file_extension": ".py",
      "mimetype": "text/x-python",
      "name": "python",
      "nbconvert_exporter": "python",
      "pygments_lexer": "ipython3",
      "version": "3.9.13"
    },
    "vscode": {
      "interpreter": {
        "hash": "aee8b7b246df8f9039afb4144a1f6fd8d2ca17a180786b69acc140d282b71a49"
      }
    },
    "colab": {
      "provenance": [],
      "include_colab_link": true
    }
  },
  "nbformat": 4,
  "nbformat_minor": 0
}